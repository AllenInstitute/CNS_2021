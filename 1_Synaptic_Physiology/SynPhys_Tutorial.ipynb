{
 "cells": [
  {
   "cell_type": "markdown",
   "metadata": {},
   "source": [
    "Tutorial: Synaptic connectivity and dynamics in mouse and human cortex\n",
    "============================================================\n",
    "\n",
    "This tutorial will show you how to access the [Synaptic Physiology Dataset](https://portal.brain-map.org/explore/connectivity/synaptic-physiology) from the Allen Institute for Brain Science. This dataset describes properties of synapses that were recorded using patch-clamp electrophysiology in mouse and human neocortical tissue. The main purpose is to understand the relationship between _cell types_ and _synapse properties_ in local microcircuits:\n",
    "\n",
    "- What is the probability of finding a synaptic connection between two cells, and how is that affected by cell type? \n",
    "- How is connectivity affected by the distance between two cells, or by other experimental parameters?\n",
    "- How is cell type related to other synapse properties such as strength, latency, kinetics (PSP shape), and dynamics (stochasticity and short-term plasticity)?\n",
    "- How can we best model synaptic connectivity and dynamics, and what can these models tell us about the function of the microcircuit?"
   ]
  },
  {
   "cell_type": "markdown",
   "metadata": {},
   "source": [
    "**Only for CoLab users** run this cell to install extra dependencies:"
   ]
  },
  {
   "cell_type": "code",
   "execution_count": null,
   "metadata": {},
   "outputs": [],
   "source": [
    "!pip install --upgrade git+https://github.com/AllenInstitute/aisynphys@cns-2021\n",
    "!pip install --upgrade git+https://github.com/AllenInstitute/neuroanalysis@master\n",
    "!pip install lmfit"
   ]
  },
  {
   "cell_type": "markdown",
   "metadata": {},
   "source": [
    "Multi-patch electrophysiology\n",
    "------------------------------------------\n",
    "\n",
    "The experiments in the Synaptic Physiology Dataset are performed using patch clamp electrophysiology in brain slices with up to 8 electrodes simultaneously. The resulting data are complex; understanding the limitations of the experimental methods is necessary in order to avoid analysis mistakes. For complete details on our methods, see our  [website](https://portal.brain-map.org/explore/connectivity/synaptic-physiology) and recent [bioRxiv publication (currently in review)](https://www.biorxiv.org/content/10.1101/2021.03.31.437553v2). When in doubt, you can ask questions on our [forum](https://community.brain-map.org/) with the tag `synaptic-physiology`.\n",
    "\n",
    "In patch-clamp electrophysiology, we use glass electrodes to gain direct electrical access to the _interior_ of a neuron. This allows us to precisely control the spiking of individual cells and to record synaptic currents that are too small to be observed by any other method (for now). \n",
    "\n",
    "![multipatch](source/images/multipatch.svg)\n",
    "\n",
    "In a single experiment, we patch up to 8 neurons simultaneously. Each neuron is stimulated to fire patterns of action potentials while we record the membrane potential of the other neurons. If two neurons are connected by a synapse, we should be able to see synaptic currents within a few ms of each presynaptic spike (although many synapses require averaging to reduce noise before the response is visible)."
   ]
  },
  {
   "cell_type": "markdown",
   "metadata": {},
   "source": [
    "<a name=\"introduction\"></a>\n",
    "\n",
    "Indroduction to dataset and database\n",
    "---------------------------------------\n",
    "\n",
    "The Synaptic Physiology Dataset contains the results of thousands of multipatch experiments. For each experiment, we store three major types of information:\n",
    "\n",
    "- **Experiment metadata:** species, brain region, and experimental conditions\n",
    "- **Cell properties:** location (including cortical layer), morphology, transgenic reporters, and intrinsic electrophysiological features\n",
    "- **Synapse properties:** strength, latency, kinetics (PSP shape), and dynamics (variance and short-term plasticity)\n",
    "\n",
    "These data are stored in a relational database (an sqlite file) and spread out over many tables. It is possible to access these tables using SQL or sqlalchemy; however, for this tutorial we will use helper methods that handle most of the queries for us."
   ]
  },
  {
   "cell_type": "markdown",
   "metadata": {},
   "source": [
    "### Querying synapse data\n",
    "\n",
    "As a simple starting point, let's get a dataframe that describes the properties of all human synapses in the dataset. We will use the function `db.pair_query`, which returns one row for each _cell pair_ in the database. Cell pairs are _ordered_, which means that the connections from cell A→B and cell B→A will have two different rows."
   ]
  },
  {
   "cell_type": "code",
   "execution_count": null,
   "metadata": {
    "scrolled": true
   },
   "outputs": [],
   "source": [
    "from aisynphys.database import SynphysDatabase\n",
    "db = SynphysDatabase.load_current('small')\n",
    "\n",
    "query = db.pair_query(\n",
    "    experiment_type='standard_multipatch',   # filter: just multipatch experiments\n",
    "    species='human',                         # filter: only human data\n",
    "    synapse=True,                            # filter: only cell pairs connected by synapse\n",
    "    synapse_type='ex',                       # filter: only excitatory synapses\n",
    "    preload=['synapse', 'cell'],             # include extra tables that contain synapse AND cell properties\n",
    ")\n",
    "synapses = query.dataframe()                 # query all records and convert to pandas dataframe\n",
    "\n",
    "synapses.head()\n",
    "print(f\"Loaded {len(synapses)} synapses\")"
   ]
  },
  {
   "cell_type": "markdown",
   "metadata": {},
   "source": [
    "This dataframe contains many columns that describe the properties of each synapse. These columns are described in the [documentation](https://aisynphys.readthedocs.io/en/master/api_schema.html), but a few common ones are:\n",
    "\n",
    "|                                    |                                               |\n",
    "|:-----------------------------------|:----------------------------------------------|\n",
    "| **synapse.psp_amplitude**              | Median amplitude of resting-state PSPs        |\n",
    "| **synapse.latency**                    | Time between presynaptic spike and PSP onset  |\n",
    "| **synapse.psp_rise_time**              | Time from onset to peak of averaged PSP       |\n",
    "| **synapse.psp_decay_tau**              | Time constant of PSP decay phase              |\n",
    "| **dynamics.stp_induction_50hz**        | A metric of synaptic facilitation / depression induced by 50 Hz spike trains           |\n",
    "| **dynamics.variability_resting_state** | Adjusted coefficient of variation of PSP amplitudes |\n"
   ]
  },
  {
   "cell_type": "code",
   "execution_count": null,
   "metadata": {
    "scrolled": true
   },
   "outputs": [],
   "source": [
    "import seaborn\n",
    "import matplotlib.pyplot as plt\n",
    "\n",
    "seaborn.histplot(synapses['synapse.psp_amplitude'])"
   ]
  },
  {
   "cell_type": "markdown",
   "metadata": {},
   "source": [
    "<a name=\"cell_types\"></a>\n",
    "## Comparing synapse properties across cell types\n",
    "\n",
    "To make the most of this dataset, we will usually want to group synapses based on the cells they connect. For example, how do human synapses differ when their cells are in layer 2 versus layer 3? To answer this question, we need to know where to find the relevant cell properties in our dataframe. Again, we could check the [documentation](https://aisynphys.readthedocs.io/en/master/api_schema.html#cell), but the most commonly used cell features are:\n",
    "\n",
    "|                 |               |\n",
    "|:----------------|:--------------|\n",
    "| **cell.cell_type** | 'ex' (excitatory) or 'in' (inhibitory) |\n",
    "| **cell.cre_type**  | Cre reporter observed in cell (mouse only for now) |\n",
    "| **cortical_cell_location.cortical_layer** | Cortical layer of cell soma |\n",
    "| **morphology.dendrite_type** | 'spiny' (excitatory cells), 'aspiny' (inhibitory cells), or 'sparsely spiny' (ambiguous) |\n",
    "\n",
    "Note that, in the dataframe, each of the column names abouve is prepended with either `pre_` or `post_`, depending on which cell is described."
   ]
  },
  {
   "cell_type": "code",
   "execution_count": null,
   "metadata": {},
   "outputs": [],
   "source": [
    "synapses['synapse.psp_amplitude'].dtype"
   ]
  },
  {
   "cell_type": "code",
   "execution_count": null,
   "metadata": {
    "scrolled": false
   },
   "outputs": [],
   "source": [
    "fig,ax = plt.subplots()\n",
    "# ax.set_yscale('log')\n",
    "seaborn.swarmplot(\n",
    "    data=synapses, \n",
    "    x='pre_cortical_cell_location.cortical_layer', \n",
    "    y='dynamics.stp_induction_50hz', \n",
    "    order=['1', '2', '3', '4', '5', '6'],\n",
    "    ax=ax,\n",
    ")"
   ]
  },
  {
   "cell_type": "markdown",
   "metadata": {},
   "source": [
    "Above we can see that most of the synapses in our human dataset are from layers 2 and 3, and also that layer 2 cells tend to express more synaptic facilitation compared to layer 3. \n",
    "\n",
    "\n",
    "### Defining more complex cell categories\n",
    "\n",
    "The approach above can take us a long way, but eventually we will want to categorize cells based on more complex criteria, which can get a little messy. To make this easier, we provide tools that take care of the most common tasks in cell categorization. In the example below, we define a set of mouse cell classes based on a combination of transgenic (CRE) reporters, cortical layer, and dendrite morphology:"
   ]
  },
  {
   "cell_type": "code",
   "execution_count": null,
   "metadata": {},
   "outputs": [],
   "source": [
    "from aisynphys.cell_class import CellClass, classify_pair_dataframe\n",
    "\n",
    "cell_categories = {\n",
    "         'L2/3 Pvalb': CellClass(cre_type='pvalb', cortical_layer='2/3'),\n",
    "           'L2/3 Sst': CellClass(cre_type='sst',   cortical_layer='2/3'),\n",
    "           'L2/3 Vip': CellClass(cre_type='vip',   cortical_layer='2/3'),\n",
    "    'L2/3 Excitatory': CellClass(cell_class='ex',  cortical_layer='2/3'),\n",
    "}"
   ]
  },
  {
   "cell_type": "markdown",
   "metadata": {},
   "source": [
    "We have defined 4 cell categories above. Three categories are layer 2/3 inhibitory cells that express either Pvalb, Sst, or Vip. The fourth category include all excitatory cells in layer 2/3. These cells might be identified by any combination of excitatory transgenic markers, dendritic morphology, or excitatory synapse projection. Next, we will  load all mouse synapses from the database and create 2 new dataframe columns that indicate the categories of pre- and postsynaptic cells:"
   ]
  },
  {
   "cell_type": "code",
   "execution_count": null,
   "metadata": {},
   "outputs": [],
   "source": [
    "# load a dataframe of all all mouse synapses\n",
    "query = db.pair_query(\n",
    "    experiment_type='standard_multipatch',   # filter: just multipatch experiments\n",
    "    species='mouse',                         # filter: only human data\n",
    "    synapse=True,                            # filter: only cell pairs connected by synapse\n",
    "    preload=['synapse', 'cell'],             # include extra tables that contain synapse AND cell properties\n",
    ")\n",
    "synapses = query.dataframe()                 # query all records and convert to pandas dataframe\n",
    "print(f\"Loaded {len(synapses)} synapses\")"
   ]
  },
  {
   "cell_type": "code",
   "execution_count": null,
   "metadata": {},
   "outputs": [],
   "source": [
    "# add columns giving categories for prep and postsynaptic cells\n",
    "classify_pair_dataframe(cell_categories, synapses, col_names=('pre_category', 'post_category'))\n",
    "\n",
    "# check:\n",
    "synapses['pre_category'].unique()"
   ]
  },
  {
   "cell_type": "markdown",
   "metadata": {},
   "source": [
    ".. and with our cells categorized, we can now display any metrics grouped by those categories. We have 4 categories of presynaptic cells, and 4 of postsynaptic cells, for a total of 16 pre/post combinations. If we ask pandas to make a pivot table based on these categories, we can easily visualize the matrix of results:"
   ]
  },
  {
   "cell_type": "code",
   "execution_count": null,
   "metadata": {},
   "outputs": [],
   "source": [
    "latency = synapses.pivot_table(\n",
    "    values='synapse.latency',\n",
    "    index='pre_category',\n",
    "    columns='post_category',\n",
    "    aggfunc='mean',\n",
    "    fill_value=float('nan'),\n",
    ")\n",
    "\n",
    "latency"
   ]
  },
  {
   "cell_type": "markdown",
   "metadata": {},
   "source": [
    "Pandas generates the pivot table above by combining several steps:\n",
    "1. Create a table with all possible `pre_category` values as rows, and all possible `post_category` values as columns.\n",
    "2. For each element in this table, group together all rows from the dataframe that have this combination of `pre_category` and `post_category`. \n",
    "3. Insert into each table element the mean of `synapse.latency` for all rows that were grouped to that element.\n",
    "\n",
    "With seaborn, we can visualize this table as a heatmap:"
   ]
  },
  {
   "cell_type": "code",
   "execution_count": null,
   "metadata": {},
   "outputs": [],
   "source": [
    "import seaborn as sns\n",
    "\n",
    "hm = sns.heatmap(\n",
    "    latency * 1000, \n",
    "    cmap='viridis', vmin=1, vmax=2, square=True,\n",
    "    cbar_kws={\"ticks\":[1, 1.5, 2], 'label': 'Latency (ms)'}\n",
    ")\n",
    "hm.set_xlabel(\"postsynaptic\", fontsize=14)\n",
    "hm.set_ylabel(\"presynaptic\", fontsize=14);"
   ]
  },
  {
   "cell_type": "markdown",
   "metadata": {},
   "source": [
    "The procedure above is common enough that a single function exists to run the database query, cell categorization, and plotting all in one. Let's try this with a less restrictive set of cell categories:"
   ]
  },
  {
   "cell_type": "code",
   "execution_count": null,
   "metadata": {},
   "outputs": [],
   "source": [
    "cell_categories = {\n",
    "     'Pvalb': CellClass(cre_type='pvalb'),\n",
    "       'Sst': CellClass(cre_type='sst'),\n",
    "       'Vip': CellClass(cre_type='vip'),\n",
    "    'Excit.': CellClass(cell_class='ex'),\n",
    "}"
   ]
  },
  {
   "cell_type": "code",
   "execution_count": null,
   "metadata": {},
   "outputs": [],
   "source": [
    "import matplotlib.pyplot as plt\n",
    "from aisynphys.ui.notebook import cell_class_matrix\n",
    "\n",
    "fig,ax = plt.subplots(1, 3, figsize=(16, 3))\n",
    "\n",
    "metrics = ['pulse_amp_90th_percentile', 'latency', 'psc_rise_time']\n",
    "\n",
    "for i, metric in enumerate(metrics):\n",
    "    cell_class_matrix(\n",
    "        pre_classes=cell_categories, \n",
    "        post_classes=cell_categories,\n",
    "        metric=metric, \n",
    "        class_labels=None, ax=ax[i],\n",
    "        db=db, pair_query_args={\n",
    "            'experiment_type': 'standard multipatch',\n",
    "            'synapse': True,\n",
    "            'species': 'mouse',\n",
    "        }\n",
    "    );"
   ]
  },
  {
   "cell_type": "markdown",
   "metadata": {},
   "source": [
    "<a name=\"connectivity\"></a>\n",
    "\n",
    "Measuring connectivity\n",
    "---------------------------------\n",
    "\n",
    "If we check two cells at random, what is the probability of finding a connection between them? If I want to build a network model of the cortex, which cells should I connect together? Measuring connectivity in a dataset like this can be surprisingly complex. Several factors can affect the connectivity we see:\n",
    "\n",
    "- Cell type-dependent differences in connectivity\n",
    "- Spatial effects of connectivity--intersomatic distance and relative positioning\n",
    "- False negatives:\n",
    "  - Connections severed during tissue preparation\n",
    "  - Synapses with low SNR\n",
    "  \n",
    "The first approach we will make to measure connectivity considers only the first point--we will look at the _proportion_ of cell pairs that were connected, grouped by cell type."
   ]
  },
  {
   "cell_type": "code",
   "execution_count": null,
   "metadata": {},
   "outputs": [],
   "source": [
    "mouse_pairs = db.pair_query(\n",
    "    experiment_type='standard multipatch',  # filter: just multipatch experiments\n",
    "    species='mouse',                        # filter: only mouse data\n",
    "    synapse_probed=True,                    # filter: only cell pairs that were checked for connectivity\n",
    "    preload=['cell']                        # include tables that describe cell properties\n",
    ").dataframe()\n",
    "\n",
    "print(f\"Loaded {len(mouse_pairs)} cell pairs\")"
   ]
  },
  {
   "cell_type": "markdown",
   "metadata": {},
   "source": [
    "A single row in this dataframe contains information about a cell pair, which represents a _possible_ connection from one cell to another.\n",
    "\n",
    "Note that in prior queries we used `synapse=True` to select only connected cell pairs. Here we are interested in measuring connectivity, so we also need to know about pairs that were checked for connectivity, but where no connection was found. So instead, we used `synapse_probed=True`, which returns all cell pairs that were checked for connectivity, regardless of whether a connection was found.\n",
    "\n",
    "Next, we categorize all cells like before, and then measure the proportion of connected pairs for each group:"
   ]
  },
  {
   "cell_type": "code",
   "execution_count": null,
   "metadata": {},
   "outputs": [],
   "source": [
    "# add two new columns with pre- and postsynaptic cell categories\n",
    "classify_pair_dataframe(cell_categories, mouse_pairs, col_names=('pre_category', 'post_category'))\n",
    "\n",
    "# make a pivot table count the number of pairs in each matrix element\n",
    "probed = mouse_pairs.pivot_table(\n",
    "    values='pair.id', index='pre_category', columns='post_category', \n",
    "    aggfunc=len, fill_value=1\n",
    ")\n",
    "\n",
    "# pivot again, but this time count the connected pairs\n",
    "connected = mouse_pairs.pivot_table(\n",
    "    values='pair.has_synapse', index='pre_category', columns='post_category', \n",
    "    aggfunc=sum, fill_value=0\n",
    ")\n",
    "\n",
    "# show the table of connected proportions\n",
    "connected / probed"
   ]
  },
  {
   "cell_type": "markdown",
   "metadata": {},
   "source": [
    "### Modeling connectivity versus intersomatic distance\n",
    "\n",
    "The analysis above gives us an estimate of the relative connectivities between cell types, but leaves out some important details. In particular, we know that the probability of finding a connection between any two cells is strongly related to the spatial relationship between the cells and their axo-dendritic morphology.\n",
    "\n",
    "As an approximation, we think of cell morphology as being cylindrically symmetrical around the axis perpendicular to the cortical surface. This means that the likelihood of two cels being connected by a synapse is strongly related to the _lateral_ distance between their cell bodies (the distance parallel to the cortical surface). \n"
   ]
  },
  {
   "cell_type": "code",
   "execution_count": null,
   "metadata": {
    "scrolled": false
   },
   "outputs": [],
   "source": [
    "from aisynphys.ui.notebook import show_connectivity_profile\n",
    "from aisynphys.connectivity import GaussianModel\n",
    "\n",
    "ei_mask = (\n",
    "    (mouse_pairs['pre_cell.cell_class'] == 'ex') & \n",
    "    (mouse_pairs['post_cell.cell_class'] == 'in') &\n",
    "    (mouse_pairs['pair.lateral_distance'] < 500e-6)\n",
    ")\n",
    "x_probed = mouse_pairs[ei_mask]['pair.lateral_distance'].to_numpy(dtype=float)\n",
    "conn = mouse_pairs[ei_mask]['pair.has_synapse'].to_numpy(dtype=bool)\n",
    "\n",
    "fig,ax = plt.subplots()\n",
    "\n",
    "fit = GaussianModel.fit(x_probed, conn)\n",
    "show_connectivity_profile(x_probed, conn, ax, fit, ymax=0.25)\n",
    "\n",
    "ax.set_xlim(0, 250e-6)\n",
    "\n",
    "print(f\"E->I Gaussian fit pmax={fit.pmax:0.2f}, σ={fit.size*1e6:0.2f}μm\")"
   ]
  },
  {
   "cell_type": "markdown",
   "metadata": {},
   "source": [
    "<a name=\"model\"></a>\n",
    "\n",
    "Stochastic release model\n",
    "---------------------------------------\n",
    "\n",
    "TODO: more info on how model works\n",
    "\n",
    "Above, we looked briefly at features that describe the dynamic behavior of synapses including stochasticity and short-term plasticity. Those features are useful for comparing synapses, but make an incomplete description of synapse behavior. To capture a more complete description of synaptic dynamics, we use a model of stochastic vesicle release. Many synapses in the database include maximum-likelihood parameters that can be used to seed this model and make predictions about how the synapse would respond to any input. "
   ]
  },
  {
   "cell_type": "code",
   "execution_count": null,
   "metadata": {},
   "outputs": [],
   "source": [
    "from aisynphys.stochastic_release_model import StochasticReleaseModel, StochasticModelRunner\n",
    "\n",
    "synapses = db.pair_query(\n",
    "    experiment_type='standard multipatch',  # filter: just multipatch experiments\n",
    "    species='human',                        # filter: only human data\n",
    "    synapse=True,                           # filter: only cell pairs that are connected by a synapse\n",
    "    preload=['cell', 'synapse']             # include tables that describe cell and synapse properties\n",
    ").dataframe()"
   ]
  },
  {
   "cell_type": "code",
   "execution_count": null,
   "metadata": {},
   "outputs": [],
   "source": [
    "# select only synapses with max likelihood model parameters\n",
    "mask = ~synapses['synapse_model.ml_n_release_sites'].isna()\n",
    "\n",
    "# pick a random synapse\n",
    "synapse = synapses[mask].iloc[123]\n",
    "\n",
    "# make a dictionary of model parameters\n",
    "model_params = {param:synapse[f'synapse_model.ml_{param}'] for param in StochasticReleaseModel.param_names}\n",
    "model_params['n_release_sites'] = int(model_params['n_release_sites'])\n",
    "model_params"
   ]
  },
  {
   "cell_type": "code",
   "execution_count": null,
   "metadata": {},
   "outputs": [],
   "source": [
    "import numpy as np\n",
    "\n",
    "# Instantiate a model with the ML parameters chosen above\n",
    "model = StochasticReleaseModel(model_params)\n",
    "\n",
    "# Make up a list of presynaptic spike times to test\n",
    "spike_times = np.array([0.1, 0.11, 0.12, 0.14, 0.2, 0.21, 0.22, 0.23, 0.5, 0.51, 0.52])\n",
    "\n",
    "# Run the model many times\n",
    "n_trials = 500\n",
    "psp_amps = np.empty((n_trials, len(spike_times)))\n",
    "for i in range(n_trials):\n",
    "    model_result = model.run_model(spike_times, amplitudes='random')\n",
    "    psp_amps[i] = model_result.result['amplitude']\n",
    "    \n",
    "# Plot the results\n",
    "fig,ax = plt.subplots(figsize=(10, 4))\n",
    "for i in range(n_trials):\n",
    "    ax.scatter(\n",
    "        spike_times * 1000 + np.random.normal(size=len(spike_times)), \n",
    "        psp_amps[i] * 1000, \n",
    "        color=(0, 0, 0, 0.1)\n",
    "    )\n",
    "    \n",
    "ax.plot(spike_times * 1000, psp_amps.mean(axis=0) * 1000)\n",
    "ax.set_xlabel('spike time (ms)')\n",
    "ax.set_ylabel('PSP amplitude (mV)');"
   ]
  },
  {
   "cell_type": "code",
   "execution_count": null,
   "metadata": {},
   "outputs": [],
   "source": []
  }
 ],
 "metadata": {
  "kernelspec": {
   "display_name": "Python 3",
   "language": "python",
   "name": "python3"
  },
  "language_info": {
   "codemirror_mode": {
    "name": "ipython",
    "version": 3
   },
   "file_extension": ".py",
   "mimetype": "text/x-python",
   "name": "python",
   "nbconvert_exporter": "python",
   "pygments_lexer": "ipython3",
   "version": "3.8.1"
  }
 },
 "nbformat": 4,
 "nbformat_minor": 4
}
